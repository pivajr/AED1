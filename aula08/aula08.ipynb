{
 "cells": [
  {
   "attachments": {},
   "cell_type": "markdown",
   "id": "1bea062a-a4d8-47b2-aa98-a6bfae55f303",
   "metadata": {},
   "source": [
    "#### Desenvolvimento de um Jogo de Adivinhar Números!\n",
    "**Como deve funcionar?**\n",
    "- o computador sorteia um número secreto dentro de um intervalo (ex: 1 a 50)  \n",
    "- o jogador tenta adivinhar esse número.   \n",
    "- A cada tentativa, o programa responde se o palpite do usuário é maior ou menor que o número secreto, até que o jogador acerte.   "
   ]
  },
  {
   "cell_type": "code",
   "execution_count": 1,
   "id": "6c6c148d-4eb9-40e9-a67a-77ef0eb1abdb",
   "metadata": {},
   "outputs": [],
   "source": [
    "# Obter um número aleatório\n",
    "# Carregar a função randint() do pacote random\n",
    "from random import randint"
   ]
  },
  {
   "cell_type": "code",
   "execution_count": 24,
   "id": "7f93ab62-506f-4ca4-9203-4981d3d8dc7d",
   "metadata": {},
   "outputs": [],
   "source": [
    "# Carregar em uma variável o valor aleatório\n",
    "n = randint(1, 100)"
   ]
  },
  {
   "cell_type": "code",
   "execution_count": 26,
   "id": "364fd952-7f17-4836-b1f2-28f5adb31941",
   "metadata": {},
   "outputs": [
    {
     "name": "stdin",
     "output_type": "stream",
     "text": [
      "Digite um palpite <entre 1 e 100>:  50\n"
     ]
    },
    {
     "name": "stdout",
     "output_type": "stream",
     "text": [
      "Seu palpite foi menor. Tente um número maior!\n",
      "Seu palpite está  FRIO\n"
     ]
    },
    {
     "name": "stdin",
     "output_type": "stream",
     "text": [
      "Digite um palpite <entre 1 e 100>:  75\n"
     ]
    },
    {
     "name": "stdout",
     "output_type": "stream",
     "text": [
      "Seu palpite foi maior. Tente um número menor!\n",
      "Seu palpite está  FRIO\n"
     ]
    },
    {
     "name": "stdin",
     "output_type": "stream",
     "text": [
      "Digite um palpite <entre 1 e 100>:  70\n"
     ]
    },
    {
     "name": "stdout",
     "output_type": "stream",
     "text": [
      "Seu palpite foi maior. Tente um número menor!\n",
      "Seu palpite está  QUENTE\n"
     ]
    },
    {
     "name": "stdin",
     "output_type": "stream",
     "text": [
      "Digite um palpite <entre 1 e 100>:  67\n"
     ]
    },
    {
     "name": "stdout",
     "output_type": "stream",
     "text": [
      "Seu palpite foi menor. Tente um número maior!\n",
      "Seu palpite está  QUENTE\n"
     ]
    },
    {
     "name": "stdin",
     "output_type": "stream",
     "text": [
      "Digite um palpite <entre 1 e 100>:  68\n"
     ]
    },
    {
     "name": "stdout",
     "output_type": "stream",
     "text": [
      "Seu palpite foi menor. Tente um número maior!\n",
      "Seu palpite está  QUENTE\n"
     ]
    },
    {
     "name": "stdin",
     "output_type": "stream",
     "text": [
      "Digite um palpite <entre 1 e 100>:  69\n"
     ]
    },
    {
     "name": "stdout",
     "output_type": "stream",
     "text": [
      "Parabéns! Você acertou!!\n"
     ]
    },
    {
     "name": "stdin",
     "output_type": "stream",
     "text": [
      "Deseja continuar? S/N:  N\n"
     ]
    }
   ],
   "source": [
    "while True:\n",
    "    # Carregar em uma variável o valor aleatório\n",
    "    n = randint(1, 100)\n",
    "    while True:\n",
    "        # Solicita um papite para o usuário\n",
    "        p = int(input(\"Digite um palpite <entre 1 e 100>: \"))   \n",
    "        # Compara o palpite com o número sorteado (aleatório)\n",
    "        d = abs(p - n)\n",
    "        if d > 5:\n",
    "            qf = \"FRIO\"\n",
    "        else:\n",
    "            qf = \"QUENTE\"\n",
    "        if p == n:\n",
    "            print(\"Parabéns! Você acertou!!\")\n",
    "            break\n",
    "        elif p > n:\n",
    "            print(\"Seu palpite foi maior. Tente um número menor!\")\n",
    "        else:\n",
    "            print(\"Seu palpite foi menor. Tente um número maior!\")\n",
    "        print(\"Seu palpite está \", qf)\n",
    "    sn = input(\"Deseja continuar? S/N: \")\n",
    "    if sn == \"N\":\n",
    "        break"
   ]
  },
  {
   "cell_type": "code",
   "execution_count": 21,
   "id": "d39069ca-153a-46b3-bd2f-beef5cdc5ba2",
   "metadata": {},
   "outputs": [
    {
     "name": "stdout",
     "output_type": "stream",
     "text": [
      "Parabéns! Você acertou!!\n"
     ]
    }
   ],
   "source": [
    "# Compara o palpite com o número sorteado (aleatório)\n",
    "if p == n:\n",
    "    print(\"Parabéns! Você acertou!!\")\n",
    "elif p > n:\n",
    "    print(\"Seu palpite foi maior. Tente um número menor!\")\n",
    "else:\n",
    "    print(\"Seu palpite foi menor. Tente um número maior!\")"
   ]
  },
  {
   "cell_type": "code",
   "execution_count": null,
   "id": "c578443b-d05b-4064-bc7d-10674cfc2784",
   "metadata": {},
   "outputs": [],
   "source": []
  }
 ],
 "metadata": {
  "kernelspec": {
   "display_name": "Python 3 (ipykernel)",
   "language": "python",
   "name": "python3"
  },
  "language_info": {
   "codemirror_mode": {
    "name": "ipython",
    "version": 3
   },
   "file_extension": ".py",
   "mimetype": "text/x-python",
   "name": "python",
   "nbconvert_exporter": "python",
   "pygments_lexer": "ipython3",
   "version": "3.13.5"
  }
 },
 "nbformat": 4,
 "nbformat_minor": 5
}
