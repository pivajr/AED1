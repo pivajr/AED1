{
 "cells": [
  {
   "cell_type": "code",
   "execution_count": 11,
   "id": "159b6d1a-17ac-4bb9-a2c5-e4d746945c5c",
   "metadata": {},
   "outputs": [
    {
     "name": "stdin",
     "output_type": "stream",
     "text": [
      "Digite a sua idade:  18\n"
     ]
    },
    {
     "name": "stdout",
     "output_type": "stream",
     "text": [
      "Você já é maior de idade!\n",
      "Fim!\n"
     ]
    }
   ],
   "source": [
    "idade = int(input(\"Digite a sua idade: \"))\n",
    "if idade >= 18:\n",
    "    print(\"Você já é maior de idade!\")\n",
    "else:\n",
    "    print(\"Espere mais um pouco!\")\n",
    "print(\"Fim!\")"
   ]
  },
  {
   "cell_type": "code",
   "execution_count": 13,
   "id": "1026a51f-71f9-43b6-b729-078c930369c8",
   "metadata": {},
   "outputs": [
    {
     "name": "stdin",
     "output_type": "stream",
     "text": [
      "Digite a nota1:  6\n",
      "Digite a nota2:  7.5\n"
     ]
    },
    {
     "name": "stdout",
     "output_type": "stream",
     "text": [
      "A média foi:  6.75\n",
      "Aprovado(a)!!\n"
     ]
    }
   ],
   "source": [
    "nota1 = float(input(\"Digite a nota1: \"))\n",
    "nota2 = float(input(\"Digite a nota2: \"))\n",
    "media = (nota1 + nota2) / 2\n",
    "print(\"A média foi: \", media)\n",
    "if media >= 6:\n",
    "    print(\"Aprovado(a)!!\")\n",
    "else:\n",
    "    print(\"Reprovado(a)!!\")\n"
   ]
  },
  {
   "cell_type": "code",
   "execution_count": 15,
   "id": "14d464fe-f520-48d4-b73b-2d47daa37045",
   "metadata": {},
   "outputs": [
    {
     "name": "stdin",
     "output_type": "stream",
     "text": [
      "Digite um número:  -7\n"
     ]
    },
    {
     "name": "stdout",
     "output_type": "stream",
     "text": [
      "Fim!\n"
     ]
    }
   ],
   "source": [
    "numero = int(input(\"Digite um número: \"))\n",
    "if numero >= 0:\n",
    "    print(\"O número é positivo!\")\n",
    "print(\"Fim!\")"
   ]
  },
  {
   "cell_type": "code",
   "execution_count": 17,
   "id": "8e6447be-8831-4a69-b6f5-bfe4d8e30dbd",
   "metadata": {},
   "outputs": [
    {
     "name": "stdin",
     "output_type": "stream",
     "text": [
      "Digite o primeiro número:  5\n",
      "Digite o segundo número:  5\n"
     ]
    },
    {
     "name": "stdout",
     "output_type": "stream",
     "text": [
      "5.0 é maior ou igual a 5.0\n"
     ]
    }
   ],
   "source": [
    "# aqui vamos fazer a entrada de dados\n",
    "n1 = float(input(\"Digite o primeiro número: \"))\n",
    "n2 = float(input(\"Digite o segundo número: \"))\n",
    "# agora vamos fazer a comparação dos números\n",
    "if n1 > n2:\n",
    "    print(n1, \"é maior que\", n2)   # n1 > n2\n",
    "else:\n",
    "    print(n2, \"é maior ou igual a\", n1)  # n2 >= n1"
   ]
  },
  {
   "cell_type": "code",
   "execution_count": 18,
   "id": "682fd023-e225-4f92-935e-6f708b3f3a0a",
   "metadata": {},
   "outputs": [
    {
     "name": "stdin",
     "output_type": "stream",
     "text": [
      "Digite uma letra:  a\n"
     ]
    },
    {
     "name": "stdout",
     "output_type": "stream",
     "text": [
      "A letra digitada é uma vogal!\n"
     ]
    }
   ],
   "source": [
    "letra = input(\"Digite uma letra: \")\n",
    "if letra == 'a' or letra == 'A':\n",
    "    print(\"A letra digitada é uma vogal!\")\n",
    "elif letra == 'e' or letra == 'E':\n",
    "    print(\"A letra digitada é uma vogal!\")\n",
    "elif letra == 'i' or letra == 'I':\n",
    "    print(\"A letra digitada é uma vogal!\")\n",
    "elif letra == 'o' or letra == 'O':\n",
    "    print(\"A letra digitada é uma vogal!\")\n",
    "elif letra == 'u' or letra == 'U':\n",
    "    print(\"A letra digitada é uma vogal!\")\n",
    "else:\n",
    "    print(\"A letra digitada é uma consoante!\")"
   ]
  },
  {
   "cell_type": "code",
   "execution_count": 21,
   "id": "6aad5441-af1d-4ade-9cfc-db56e8b96254",
   "metadata": {},
   "outputs": [
    {
     "name": "stdin",
     "output_type": "stream",
     "text": [
      "Entre com um número:  7\n"
     ]
    },
    {
     "name": "stdout",
     "output_type": "stream",
     "text": [
      "7  é impar positivo!\n"
     ]
    }
   ],
   "source": [
    "n = int(input(\"Entre com um número: \"))\n",
    "if (n >= 0):\n",
    "    if (n % 2) == 0:\n",
    "        print(n, \" é par positivo!\")\n",
    "    else:\n",
    "        print(n, \" é impar positivo!\")\n",
    "else:\n",
    "    if (abs(n) % 2) == 0:\n",
    "        print(n, \" é par negativo!\")\n",
    "    else:\n",
    "        print(n, \" é impar negativo!\")"
   ]
  },
  {
   "cell_type": "code",
   "execution_count": 22,
   "id": "ed2992da-57e6-498e-b63b-4391dbeea39b",
   "metadata": {},
   "outputs": [
    {
     "name": "stdin",
     "output_type": "stream",
     "text": [
      "Digite a idade do nadador:  65\n"
     ]
    },
    {
     "name": "stdout",
     "output_type": "stream",
     "text": [
      "Categoria Sênior\n"
     ]
    }
   ],
   "source": [
    "idade = int(input(\"Digite a idade do nadador: \"))\n",
    "if idade < 5:\n",
    "    print(\"Categoria Inexistente!\")\n",
    "elif idade <= 7:\n",
    "    print(\"Categoria Infantil\")\n",
    "elif idade <= 10:\n",
    "    print(\"Categoria Juvenil\")\n",
    "elif idade <= 15:\n",
    "    print(\"Categoria Adolescente\")\n",
    "elif idade <= 30:\n",
    "    print(\"Categoria Adulto\")\n",
    "else:\n",
    "    print(\"Categoria Sênior\")"
   ]
  },
  {
   "cell_type": "code",
   "execution_count": null,
   "id": "1d2751fd-5e84-49ca-9adf-a1d7be78a929",
   "metadata": {},
   "outputs": [],
   "source": []
  }
 ],
 "metadata": {
  "kernelspec": {
   "display_name": "Python 3 (ipykernel)",
   "language": "python",
   "name": "python3"
  },
  "language_info": {
   "codemirror_mode": {
    "name": "ipython",
    "version": 3
   },
   "file_extension": ".py",
   "mimetype": "text/x-python",
   "name": "python",
   "nbconvert_exporter": "python",
   "pygments_lexer": "ipython3",
   "version": "3.13.5"
  }
 },
 "nbformat": 4,
 "nbformat_minor": 5
}
